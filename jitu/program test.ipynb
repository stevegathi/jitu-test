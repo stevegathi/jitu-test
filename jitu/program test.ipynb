{
 "cells": [
  {
   "cell_type": "markdown",
   "metadata": {},
   "source": [
    "Function to reverse the digits of an integer"
   ]
  },
  {
   "cell_type": "code",
   "execution_count": 1,
   "metadata": {},
   "outputs": [
    {
     "name": "stdout",
     "output_type": "stream",
     "text": [
      "5\n",
      "-21\n"
     ]
    }
   ],
   "source": [
    "def reverse_digits(n):\n",
    "    sign = -1 if n < 0 else 1\n",
    "    n *= sign\n",
    "    reversed_n = int(str(n)[::-1])\n",
    "    return sign * reversed_n\n",
    "\n",
    "# Test cases\n",
    "print(reverse_digits(50))  # Output: 5\n",
    "print(reverse_digits(-12)) # Output: -21\n"
   ]
  },
  {
   "cell_type": "markdown",
   "metadata": {},
   "source": [
    "Recursive function to calculate the factorial of a number:"
   ]
  },
  {
   "cell_type": "code",
   "execution_count": 2,
   "metadata": {},
   "outputs": [
    {
     "name": "stdout",
     "output_type": "stream",
     "text": [
      "120\n",
      "1\n"
     ]
    }
   ],
   "source": [
    "def factorial(n):\n",
    "    if n == 0 or n == 1:\n",
    "        return 1\n",
    "    return n * factorial(n - 1)\n",
    "\n",
    "# Test cases\n",
    "print(factorial(5))  # Output: 120\n",
    "print(factorial(0))  # Output: 1\n"
   ]
  },
  {
   "cell_type": "markdown",
   "metadata": {},
   "source": [
    "Function to return the most frequently appearing character"
   ]
  },
  {
   "cell_type": "code",
   "execution_count": 3,
   "metadata": {},
   "outputs": [
    {
     "name": "stdout",
     "output_type": "stream",
     "text": [
      "1\n",
      "l\n"
     ]
    }
   ],
   "source": [
    "def most_frequent_character(s):\n",
    "    from collections import Counter\n",
    "    count = Counter(s)\n",
    "    return count.most_common(1)[0][0]\n",
    "\n",
    "# Test cases\n",
    "print(most_frequent_character('11189'))  # Output: '1'\n",
    "print(most_frequent_character('hello'))  # Output: 'l'"
   ]
  },
  {
   "cell_type": "markdown",
   "metadata": {},
   "source": [
    "Function to determine whether a given string is a pangram:"
   ]
  },
  {
   "cell_type": "code",
   "execution_count": 4,
   "metadata": {},
   "outputs": [
    {
     "name": "stdout",
     "output_type": "stream",
     "text": [
      "True\n",
      "False\n"
     ]
    }
   ],
   "source": [
    "def is_pangram(s):\n",
    "    import string\n",
    "    alphabet = set(string.ascii_lowercase)\n",
    "    return alphabet <= set(s.lower())\n",
    "\n",
    "# Test cases\n",
    "print(is_pangram(\"The quick brown fox jumps over the lazy dog\"))  # Output: True\n",
    "print(is_pangram(\"Hello, world!\"))  # Output: False"
   ]
  },
  {
   "cell_type": "markdown",
   "metadata": {},
   "source": [
    "Function to check if the list contains two consecutive threes:"
   ]
  },
  {
   "cell_type": "code",
   "execution_count": 5,
   "metadata": {},
   "outputs": [
    {
     "name": "stdout",
     "output_type": "stream",
     "text": [
      "True\n",
      "False\n"
     ]
    }
   ],
   "source": [
    "def has_consecutive_threes(lst):\n",
    "    for i in range(len(lst) - 1):\n",
    "        if lst[i] == 3 and lst[i + 1] == 3:\n",
    "            return True\n",
    "    return False\n",
    "\n",
    "# Test cases\n",
    "print(has_consecutive_threes([1, 3, 3]))  # Output: True\n",
    "print(has_consecutive_threes([1, 3, 1, 3]))  # Output: False\n"
   ]
  },
  {
   "cell_type": "markdown",
   "metadata": {},
   "source": [
    "Function to reverse the order of words in a sentence (Yoda style):"
   ]
  },
  {
   "cell_type": "code",
   "execution_count": 6,
   "metadata": {},
   "outputs": [
    {
     "name": "stdout",
     "output_type": "stream",
     "text": [
      "home am I\n",
      "there Hello\n"
     ]
    }
   ],
   "source": [
    "def yoda_speak(sentence):\n",
    "    words = sentence.split()\n",
    "    reversed_sentence = ' '.join(words[::-1])\n",
    "    return reversed_sentence\n",
    "\n",
    "# Test cases\n",
    "print(yoda_speak(\"I am home\"))  # Output: \"home am I\"\n",
    "print(yoda_speak(\"Hello there\"))  # Output: \"there Hello\""
   ]
  }
 ],
 "metadata": {
  "kernelspec": {
   "display_name": "Python 3",
   "language": "python",
   "name": "python3"
  },
  "language_info": {
   "codemirror_mode": {
    "name": "ipython",
    "version": 3
   },
   "file_extension": ".py",
   "mimetype": "text/x-python",
   "name": "python",
   "nbconvert_exporter": "python",
   "pygments_lexer": "ipython3",
   "version": "3.12.1"
  }
 },
 "nbformat": 4,
 "nbformat_minor": 2
}
